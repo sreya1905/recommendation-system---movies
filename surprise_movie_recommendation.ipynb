{
 "cells": [
  {
   "cell_type": "code",
   "execution_count": 1,
   "id": "01727db4-ba84-43d0-956c-d2f789f2d739",
   "metadata": {},
   "outputs": [
    {
     "name": "stdout",
     "output_type": "stream",
     "text": [
      "Collecting Cmake\n",
      "  Using cached cmake-3.27.5-py2.py3-none-win_amd64.whl (34.6 MB)\n",
      "Installing collected packages: Cmake\n",
      "Successfully installed Cmake-3.27.5\n"
     ]
    }
   ],
   "source": [
    "!pip install Cmake"
   ]
  },
  {
   "cell_type": "code",
   "execution_count": 2,
   "id": "9df3dffd",
   "metadata": {},
   "outputs": [
    {
     "name": "stdout",
     "output_type": "stream",
     "text": [
      "Collecting scikit-surprise\n",
      "  Using cached scikit-surprise-1.1.3.tar.gz (771 kB)\n",
      "  Preparing metadata (setup.py): started\n",
      "  Preparing metadata (setup.py): finished with status 'done'\n",
      "Requirement already satisfied: joblib>=1.0.0 in c:\\users\\sreya\\anaconda3\\lib\\site-packages (from scikit-surprise) (1.3.2)\n",
      "Requirement already satisfied: numpy>=1.17.3 in c:\\users\\sreya\\anaconda3\\lib\\site-packages (from scikit-surprise) (1.21.6)\n",
      "Requirement already satisfied: scipy>=1.3.2 in c:\\users\\sreya\\anaconda3\\lib\\site-packages (from scikit-surprise) (1.9.1)\n",
      "Building wheels for collected packages: scikit-surprise\n",
      "  Building wheel for scikit-surprise (setup.py): started\n",
      "  Building wheel for scikit-surprise (setup.py): finished with status 'done'\n",
      "  Created wheel for scikit-surprise: filename=scikit_surprise-1.1.3-cp39-cp39-win_amd64.whl size=1093717 sha256=e2f5cdeaf757a127dd54e589ad36cd7fdad926ebabce4d7804c08365ccc2acd4\n",
      "  Stored in directory: c:\\users\\sreya\\appdata\\local\\pip\\cache\\wheels\\c6\\3a\\46\\9b17b3512bdf283c6cb84f59929cdd5199d4e754d596d22784\n",
      "Successfully built scikit-surprise\n",
      "Installing collected packages: scikit-surprise\n",
      "Successfully installed scikit-surprise-1.1.3\n"
     ]
    }
   ],
   "source": [
    "!pip install scikit-surprise"
   ]
  },
  {
   "cell_type": "code",
   "execution_count": 3,
   "id": "69e824d8",
   "metadata": {},
   "outputs": [],
   "source": [
    "import pandas as pd\n",
    "from surprise import Dataset\n",
    "from surprise import Reader\n",
    "from surprise import SVD\n",
    "from surprise.model_selection import train_test_split\n",
    "from surprise import accuracy"
   ]
  },
  {
   "cell_type": "code",
   "execution_count": 4,
   "id": "6ed50fed",
   "metadata": {},
   "outputs": [],
   "source": [
    "ratings = pd.read_csv('ratings.csv')"
   ]
  },
  {
   "cell_type": "code",
   "execution_count": 5,
   "id": "93ee65b7",
   "metadata": {},
   "outputs": [
    {
     "data": {
      "text/html": [
       "<div>\n",
       "<style scoped>\n",
       "    .dataframe tbody tr th:only-of-type {\n",
       "        vertical-align: middle;\n",
       "    }\n",
       "\n",
       "    .dataframe tbody tr th {\n",
       "        vertical-align: top;\n",
       "    }\n",
       "\n",
       "    .dataframe thead th {\n",
       "        text-align: right;\n",
       "    }\n",
       "</style>\n",
       "<table border=\"1\" class=\"dataframe\">\n",
       "  <thead>\n",
       "    <tr style=\"text-align: right;\">\n",
       "      <th></th>\n",
       "      <th>userId</th>\n",
       "      <th>movieId</th>\n",
       "      <th>rating</th>\n",
       "      <th>tstamp</th>\n",
       "    </tr>\n",
       "  </thead>\n",
       "  <tbody>\n",
       "    <tr>\n",
       "      <th>0</th>\n",
       "      <td>206</td>\n",
       "      <td>4803</td>\n",
       "      <td>4.0</td>\n",
       "      <td>2003-04-07 13:52:01</td>\n",
       "    </tr>\n",
       "    <tr>\n",
       "      <th>1</th>\n",
       "      <td>5073</td>\n",
       "      <td>72731</td>\n",
       "      <td>4.0</td>\n",
       "      <td>2020-02-19 16:07:53</td>\n",
       "    </tr>\n",
       "    <tr>\n",
       "      <th>2</th>\n",
       "      <td>4739</td>\n",
       "      <td>91653</td>\n",
       "      <td>4.0</td>\n",
       "      <td>2020-12-28 15:35:58</td>\n",
       "    </tr>\n",
       "    <tr>\n",
       "      <th>3</th>\n",
       "      <td>535</td>\n",
       "      <td>3005</td>\n",
       "      <td>3.0</td>\n",
       "      <td>2008-12-26 05:38:11</td>\n",
       "    </tr>\n",
       "    <tr>\n",
       "      <th>4</th>\n",
       "      <td>465</td>\n",
       "      <td>4776</td>\n",
       "      <td>3.0</td>\n",
       "      <td>2008-08-13 20:22:36</td>\n",
       "    </tr>\n",
       "  </tbody>\n",
       "</table>\n",
       "</div>"
      ],
      "text/plain": [
       "   userId  movieId  rating               tstamp\n",
       "0     206     4803     4.0  2003-04-07 13:52:01\n",
       "1    5073    72731     4.0  2020-02-19 16:07:53\n",
       "2    4739    91653     4.0  2020-12-28 15:35:58\n",
       "3     535     3005     3.0  2008-12-26 05:38:11\n",
       "4     465     4776     3.0  2008-08-13 20:22:36"
      ]
     },
     "execution_count": 5,
     "metadata": {},
     "output_type": "execute_result"
    }
   ],
   "source": [
    "ratings.head()"
   ]
  },
  {
   "cell_type": "code",
   "execution_count": 6,
   "id": "1f6ee3aa",
   "metadata": {},
   "outputs": [
    {
     "name": "stdout",
     "output_type": "stream",
     "text": [
      "<class 'pandas.core.frame.DataFrame'>\n",
      "RangeIndex: 3908657 entries, 0 to 3908656\n",
      "Data columns (total 4 columns):\n",
      " #   Column   Dtype  \n",
      "---  ------   -----  \n",
      " 0   userId   int64  \n",
      " 1   movieId  int64  \n",
      " 2   rating   float64\n",
      " 3   tstamp   object \n",
      "dtypes: float64(1), int64(2), object(1)\n",
      "memory usage: 119.3+ MB\n"
     ]
    }
   ],
   "source": [
    "ratings.info()"
   ]
  },
  {
   "cell_type": "code",
   "execution_count": 7,
   "id": "d288e70c",
   "metadata": {},
   "outputs": [
    {
     "data": {
      "text/plain": [
       "4.0    900243\n",
       "3.5    747522\n",
       "3.0    693019\n",
       "4.5    405031\n",
       "5.0    341782\n",
       "2.5    310870\n",
       "2.0    241348\n",
       "1.5     95228\n",
       "1.0     95044\n",
       "0.5     78570\n",
       "Name: rating, dtype: int64"
      ]
     },
     "execution_count": 7,
     "metadata": {},
     "output_type": "execute_result"
    }
   ],
   "source": [
    "ratings['rating'].value_counts()"
   ]
  },
  {
   "cell_type": "code",
   "execution_count": 8,
   "id": "d5fedec5",
   "metadata": {},
   "outputs": [],
   "source": [
    "min_rating = 0.5\n",
    "max_rating = 5.0\n",
    "\n",
    "# Create a Surprise Reader object to specify the rating scale\n",
    "reader = Reader(rating_scale=(min_rating, max_rating))  # Specify the actual rating scale used in your data\n",
    "\n",
    "# Load the Pandas DataFrame into a Surprise Dataset\n",
    "data = Dataset.load_from_df(ratings[['userId', 'movieId', 'rating']], reader)\n",
    "\n",
    "# Split the data into train and test sets\n",
    "trainset, testset = train_test_split(data, test_size=.2)\n"
   ]
  },
  {
   "cell_type": "code",
   "execution_count": 9,
   "id": "c0afe06a",
   "metadata": {},
   "outputs": [],
   "source": [
    "algo = SVD()"
   ]
  },
  {
   "cell_type": "code",
   "execution_count": 10,
   "id": "89fd74f0",
   "metadata": {},
   "outputs": [
    {
     "data": {
      "text/plain": [
       "<surprise.prediction_algorithms.matrix_factorization.SVD at 0x185191de400>"
      ]
     },
     "execution_count": 10,
     "metadata": {},
     "output_type": "execute_result"
    }
   ],
   "source": [
    "algo.fit(trainset)"
   ]
  },
  {
   "cell_type": "code",
   "execution_count": 11,
   "id": "ed9bf71b",
   "metadata": {},
   "outputs": [
    {
     "name": "stdout",
     "output_type": "stream",
     "text": [
      "RMSE: 0.7436\n"
     ]
    },
    {
     "data": {
      "text/plain": [
       "0.7435690337462179"
      ]
     },
     "execution_count": 11,
     "metadata": {},
     "output_type": "execute_result"
    }
   ],
   "source": [
    "predictions = algo.test(testset)\n",
    "accuracy.rmse(predictions)"
   ]
  },
  {
   "cell_type": "code",
   "execution_count": 18,
   "id": "73ed800f",
   "metadata": {},
   "outputs": [],
   "source": [
    "def predict_rating(user_id, movie_id):\n",
    "    prediction = algo.predict(user_id, movie_id)\n",
    "    return prediction.est"
   ]
  },
  {
   "cell_type": "code",
   "execution_count": 19,
   "id": "3435d29b",
   "metadata": {},
   "outputs": [
    {
     "data": {
      "text/plain": [
       "3.2047122582033762"
      ]
     },
     "execution_count": 19,
     "metadata": {},
     "output_type": "execute_result"
    }
   ],
   "source": [
    "predict_rating(206, 4803)"
   ]
  },
  {
   "cell_type": "code",
   "execution_count": 13,
   "id": "22559d4c",
   "metadata": {},
   "outputs": [],
   "source": [
    "def recommend_movies(user_id):\n",
    "    # Get a list of all the movies the user has not rated\n",
    "    all_movies = ratings['movieId'].unique()\n",
    "    user_movies = ratings[ratings['userId'] == user_id]['movieId'].unique()\n",
    "    new_movies = list(set(all_movies) - set(user_movies))\n",
    "    \n",
    "    # Predict the ratings for the new movies\n",
    "    predictions = [algo.predict(user_id, movie_id) for movie_id in new_movies]\n",
    "    \n",
    "    # Sort the predictions by estimated rating\n",
    "    predictions.sort(key=lambda x: x.est, reverse=True)\n",
    "    \n",
    "    # Get the top 10 recommendations\n",
    "    top_recommendations = [prediction.iid for prediction in predictions[:10]]\n",
    "    \n",
    "    return top_recommendations"
   ]
  },
  {
   "cell_type": "code",
   "execution_count": 14,
   "id": "0ce611c1",
   "metadata": {},
   "outputs": [],
   "source": [
    "movie_ids=recommend_movies(206)"
   ]
  },
  {
   "cell_type": "code",
   "execution_count": 15,
   "id": "197d73d3",
   "metadata": {},
   "outputs": [],
   "source": [
    "df=ratings = pd.read_csv('movies.csv')"
   ]
  },
  {
   "cell_type": "code",
   "execution_count": 16,
   "id": "1fac3ab6",
   "metadata": {},
   "outputs": [
    {
     "data": {
      "text/html": [
       "<div>\n",
       "<style scoped>\n",
       "    .dataframe tbody tr th:only-of-type {\n",
       "        vertical-align: middle;\n",
       "    }\n",
       "\n",
       "    .dataframe tbody tr th {\n",
       "        vertical-align: top;\n",
       "    }\n",
       "\n",
       "    .dataframe thead th {\n",
       "        text-align: right;\n",
       "    }\n",
       "</style>\n",
       "<table border=\"1\" class=\"dataframe\">\n",
       "  <thead>\n",
       "    <tr style=\"text-align: right;\">\n",
       "      <th></th>\n",
       "      <th>movieId</th>\n",
       "      <th>title</th>\n",
       "      <th>genres</th>\n",
       "    </tr>\n",
       "  </thead>\n",
       "  <tbody>\n",
       "    <tr>\n",
       "      <th>0</th>\n",
       "      <td>1</td>\n",
       "      <td>Toy Story (1995)</td>\n",
       "      <td>Adventure|Animation|Children|Comedy|Fantasy</td>\n",
       "    </tr>\n",
       "    <tr>\n",
       "      <th>1</th>\n",
       "      <td>2</td>\n",
       "      <td>Jumanji (1995)</td>\n",
       "      <td>Adventure|Children|Fantasy</td>\n",
       "    </tr>\n",
       "    <tr>\n",
       "      <th>2</th>\n",
       "      <td>3</td>\n",
       "      <td>Grumpier Old Men (1995)</td>\n",
       "      <td>Comedy|Romance</td>\n",
       "    </tr>\n",
       "    <tr>\n",
       "      <th>3</th>\n",
       "      <td>4</td>\n",
       "      <td>Waiting to Exhale (1995)</td>\n",
       "      <td>Comedy|Drama|Romance</td>\n",
       "    </tr>\n",
       "    <tr>\n",
       "      <th>4</th>\n",
       "      <td>5</td>\n",
       "      <td>Father of the Bride Part II (1995)</td>\n",
       "      <td>Comedy</td>\n",
       "    </tr>\n",
       "  </tbody>\n",
       "</table>\n",
       "</div>"
      ],
      "text/plain": [
       "   movieId                               title  \\\n",
       "0        1                    Toy Story (1995)   \n",
       "1        2                      Jumanji (1995)   \n",
       "2        3             Grumpier Old Men (1995)   \n",
       "3        4            Waiting to Exhale (1995)   \n",
       "4        5  Father of the Bride Part II (1995)   \n",
       "\n",
       "                                        genres  \n",
       "0  Adventure|Animation|Children|Comedy|Fantasy  \n",
       "1                   Adventure|Children|Fantasy  \n",
       "2                               Comedy|Romance  \n",
       "3                         Comedy|Drama|Romance  \n",
       "4                                       Comedy  "
      ]
     },
     "execution_count": 16,
     "metadata": {},
     "output_type": "execute_result"
    }
   ],
   "source": [
    "df.head()"
   ]
  },
  {
   "cell_type": "code",
   "execution_count": 17,
   "id": "164096ea",
   "metadata": {},
   "outputs": [
    {
     "name": "stdout",
     "output_type": "stream",
     "text": [
      "Movie ID: 1361\n",
      "Title: Paradise Lost: The Child Murders at Robin Hood Hills (1996)\n",
      "Genres: Documentary\n",
      "------------------------------\n",
      "Movie ID: 6896\n",
      "Title: Shoah (1985)\n",
      "Genres: Documentary|War\n",
      "------------------------------\n",
      "Movie ID: 26073\n",
      "Title: Human Condition III, The (Ningen no joken III) (1961)\n",
      "Genres: Drama|War\n",
      "------------------------------\n",
      "Movie ID: 134849\n",
      "Title: Duck Amuck (1953)\n",
      "Genres: Animation|Children|Comedy\n",
      "------------------------------\n",
      "Movie ID: 171011\n",
      "Title: Planet Earth II (2016)\n",
      "Genres: Documentary\n",
      "------------------------------\n",
      "Movie ID: 182723\n",
      "Title: Cosmos: A Spacetime Odissey\n",
      "Genres: (no genres listed)\n",
      "------------------------------\n"
     ]
    }
   ],
   "source": [
    "filtered_df = df[df['movieId'].isin(movie_ids)]\n",
    "\n",
    "# Iterate over the filtered DataFrame and print the title and genres for each movie\n",
    "for index, row in filtered_df.iterrows():\n",
    "    print(f\"Movie ID: {row['movieId']}\")\n",
    "    print(f\"Title: {row['title']}\")\n",
    "    print(f\"Genres: {row['genres']}\")\n",
    "    print('-' * 30)"
   ]
  },
  {
   "cell_type": "code",
   "execution_count": null,
   "id": "bb22e361",
   "metadata": {},
   "outputs": [],
   "source": []
  }
 ],
 "metadata": {
  "kernelspec": {
   "display_name": "Python 3 (ipykernel)",
   "language": "python",
   "name": "python3"
  },
  "language_info": {
   "codemirror_mode": {
    "name": "ipython",
    "version": 3
   },
   "file_extension": ".py",
   "mimetype": "text/x-python",
   "name": "python",
   "nbconvert_exporter": "python",
   "pygments_lexer": "ipython3",
   "version": "3.9.13"
  }
 },
 "nbformat": 4,
 "nbformat_minor": 5
}
